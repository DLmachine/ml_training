{
 "cells": [
  {
   "cell_type": "markdown",
   "metadata": {},
   "source": [
    "# Corona virus: Fact or Hype\n",
    "\n",
    "<img src=\"figures/covid-19.jpg\" width=500>\n",
    "\n",
    "At the time of the writing of this notebook (March 10, 2020), the world has decended into mass panic, fueled by misinformation in the media.  In the stock market, the DOW-Jones Industrial Average dropped from 29,000 to 24,000 points, sending business and retirement accounts tumbling.\n",
    "\n",
    "So, is this really a pandemic, or just hype?  According to the Centers for Disease Control and Prevention (CDC), this is no different than the [common flu](https://www.cdc.gov/coronavirus/2019-ncov/index.html).\n",
    "\n",
    "If you are reading this notebook, you reaize that you are more than a lay-person.  You have powerful tools at your fingertips, and you likely have data to analyze and formulate your own opinion.  You realize that to be a Data Scientist requires you to be a creative and critical thinker, an individual.\n",
    "\n",
    "Team DSBC had the same notion!\n",
    "\n",
    "So we collected data from the CDC and [World Health Organization](https://www.who.int/csr/don/12-january-2020-novel-coronavirus-china/en/) (WHO) websites.  But we didn't stop there.  We are critical thinkers too.  We also colected data for:\n",
    "- [Coronavirus international incidence dates](https://www.washington.edu/news/2020/02/07/interactive-map-shows-worldwide-spread-of-coronavirus/)\n",
    "-[2009 H1N1 Swine Flu](https://academic.oup.com/cid/article/52/suppl_1/S75/499147#97947460), [here](https://www.cdc.gov/flu/spotlights/pandemic-global-estimates.htm), [here](http://www.cidrap.umn.edu/news-perspective/2011/08/study-puts-global-2009-h1n1-infection-rate-11-21), [here](https://www.cdc.gov/flu/pandemic-resources/2009-pandemic-timeline.html), [and here](https://en.wikipedia.org/wiki/2009_flu_pandemic_timeline#March_2009)\n",
    "- [Ebola](https://www.cdc.gov/vhf/ebola/history/2014-2016-outbreak/case-counts.html)\n",
    "- [SARS](https://www.who.int/csr/sars/country/en/)\n",
    "- [MERS](https://hazards.colorado.edu/quick-response-report/dynamics-of-interorganizational-risk-management-networks-during-the-2015-mers-response-in-south-korea)\n",
    "- [1918 Spanish Flu](https://www.cdc.gov/flu/pandemic-resources/1918-commemoration/pandemic-timeline-1918.htm) [and here](https://wwwnc.cdc.gov/eid/article/12/1/05-0979_article)\n",
    "\n",
    "\n",
    "Just for completeness, we also collected data on:\n",
    "- [Car crashes](https://www.asirt.org/safe-travel/road-safety-facts/)\n",
    "- [Suicides](https://www.medicalnewstoday.com/articles/234219.php#1)\n",
    "- [Cancer](https://www.who.int/news-room/fact-sheets/detail/cancer)\n",
    "- [Ischemic Heart Disease](https://www.ahajournals.org/doi/10.1161/CIRCOUTCOMES.118.005375)\n",
    "- [Generic US Flu](https://www.cdc.gov/flu/about/burden/preliminary-in-season-estimates.htm)\n",
    "- [Stroke](http://www.strokecenter.org/patients/about-stroke/stroke-statistics/)\n",
    "- [Drowning](https://www.who.int/news-room/fact-sheets/detail/drowning) \n",
    "- [Bed strangulation](https://www.businessinsider.com/weird-causes-of-death-2016-7#w75-accidental-suffocation-and-strangulation-in-bed--10206-deaths-7)\n",
    "[also here](https://wonder.cdc.gov/controller/datarequest/D76)\n",
    "- [SIDS](https://pediatrics.aappublications.org/content/pediatrics/122/3/660.full.pdf?download=true)\n",
    "- [Domestic Violence](https://www.npr.org/sections/goatsandsoda/2018/11/30/671872574/u-n-report-50-000-women-a-year-are-killed-by-intimate-partners-family-members)\n",
    "- [Animal deaths](https://www.businessinsider.com/worlds-deadliest-animals-2016-9/)\n",
    "- [Alzheimer's](https://braintest.com/alzheimers-statistics-throughout-the-united-states-and-worldwide/)\n",
    "- [Malaria](https://www.childfund.org/infographic/malaria/)\n",
    "- [Homicide](https://ourworldindata.org/homicides)\n",
    "\n",
    "So why did we go through all of this trouble?  Well, like any problem, we like to have as much data as possible to make good scientific decisions, and compare results where possible.  In this case, it is nice to compare COVID-19 to MERS and others.  As you will likely find, as we did, if you are [older than 5 and younger than 60](https://www.cdc.gov/coronavirus/2019-ncov/index.html), you are more likely to die of a car accident, than you are of COVID-19.\n",
    "\n",
    "Below is the data, and several plots with some analysis.  Use your judgement and make your own decision.\n",
    "\n",
    "We will continue to update this notebook over the next several weeks, so stay tuned!\n",
    "\n",
    "\n",
    "## Table of Contents:\n",
    "* [1. Preprocessing](#Preprocessing)\n",
    "* [2. Initial COVID-19 Plots](#initial_covid_19_plots)\n",
    "* [3. Countries Affected by COVID-19, Ebola, SARS - Cases](#covid_19_ebola_sars_countries_cases)\n",
    "* [4. Countries Affected by COVID-19, Ebola, SARS - Deaths](#covid_19_ebola_sars_countries_deaths)\n",
    "* [5. Comparison: COVID-19, SARS, Ebola, MERS, H1N1](#comparison_covid_19_sars_ebola_mers_h1n1)\n",
    "* [6. Comparison: Common Flu, Car Crashes, etc.](#comparison_everything_else)\n",
    "* [7. Initial Analysis](#initial_analysis)\n",
    "* [8. Conclusions](#conclusion)\n",
    "\n",
    "\n",
    "\n",
    "# Set-up\n",
    "As with all of our notebooks, we begin with the standard imports:"
   ]
  },
  {
   "cell_type": "code",
   "execution_count": null,
   "metadata": {
    "_cell_guid": "b1076dfc-b9ad-4769-8c92-a6c4dae69d19",
    "_uuid": "8f2839f25d086af736a60e9eeb907d3b93b6e0e5"
   },
   "outputs": [],
   "source": [
    "# storing and anaysis\n",
    "import numpy as np\n",
    "import pandas as pd\n",
    "import warnings\n",
    "warnings.filterwarnings('ignore')\n",
    "\n",
    "# visualization\n",
    "import matplotlib.pyplot as plt\n",
    "import matplotlib.dates as mdates\n",
    "import seaborn as sns\n",
    "from plotnine import *\n",
    "import plotly.express as px\n",
    "import folium\n",
    "\n",
    "# color pallette\n",
    "s = '#f0134d'\n",
    "h = '#12cad6'\n",
    "e = '#4a47a3'\n",
    "m = '#42e6a4'\n",
    "c = '#333333'\n",
    "c = '#393e46'\n",
    "d = '#ff2e63'\n",
    "r = '#30e3ca'\n",
    "i = '#f8b400'\n",
    "cdr = [c, d, r] # grey - red - blue\n",
    "idr = [i, d, r] # yellow - red - blue\n",
    "shemc = [s, h, e, m, c]\n",
    "sec = [s, e, c]"
   ]
  },
  {
   "cell_type": "markdown",
   "metadata": {},
   "source": [
    "# Preprocessing <a class=\"anchor\" id=\"Preprocessing\"></a>"
   ]
  },
  {
   "cell_type": "code",
   "execution_count": null,
   "metadata": {
    "_cell_guid": "79c7e3d0-c299-4dcb-8224-4455121ee9b0",
    "_uuid": "d629ff2d2480ee46fbb7e2d37f6b5fab8052498a"
   },
   "outputs": [],
   "source": [
    "# COVID-19\n",
    "# --------\n",
    "\n",
    "# importing datasets\n",
    "#covid_19 = pd.read_csv('data/corona-virus-report/covid_19_clean_complete.csv', \n",
    "#                         parse_dates=['Date'])\n",
    "#covid_19 = pd.read_csv('data/2019-coronavirus-dataset-01212020-01262020/2019_nC0v_20200121_20200126_cleaned.csv', \n",
    "#                       parse_dates=['Date'])\n",
    "covid_19 = pd.read_csv('data/novel-corona-virus-2019-dataset/covid_19_data.csv', \n",
    "                         parse_dates=['Date'])\n",
    "\n",
    "# selecting important columns only\n",
    "covid_19 = covid_19[['Date', 'Country/Region', 'Confirmed', 'Deaths', 'Recovered']]\n",
    "\n",
    "# replacing Mainland china with just China\n",
    "covid_19['Country/Region'] = covid_19['Country/Region'].replace('Mainland China', 'China')\n",
    "\n",
    "# renaming columns\n",
    "covid_19.columns = ['Date', 'Country', 'Cases', 'Deaths', 'Recovered']\n",
    "\n",
    "# group by date and country\n",
    "covid_19 = covid_19.groupby(['Date', 'Country'])['Cases', 'Deaths', 'Recovered']\n",
    "covid_19 = covid_19.sum().reset_index()\n",
    "\n",
    "# latest\n",
    "c_lat = covid_19[covid_19['Date'] == max(covid_19['Date'])].reset_index()\n",
    "\n",
    "# latest grouped by country\n",
    "c_lat_grp = c_lat.groupby('Country')['Cases', 'Deaths', 'Recovered'].sum().reset_index()\n",
    "\n",
    "# nth day\n",
    "covid_19['nth_day'] = (covid_19['Date'] - min(covid_19['Date'])).dt.days\n",
    "\n",
    "# day by day\n",
    "c_dbd = covid_19.groupby('Date')['Cases', 'Deaths', 'Recovered'].sum().reset_index()\n",
    "\n",
    "# nth day\n",
    "c_dbd['nth_day'] = covid_19.groupby('Date')['nth_day'].max().values\n",
    "\n",
    "# no. of countries\n",
    "temp = covid_19[covid_19['Cases']>0]\n",
    "c_dbd['n_countries'] = temp.groupby('Date')['Country'].apply(len).values\n",
    "\n",
    "covid_19.head()"
   ]
  },
  {
   "cell_type": "code",
   "execution_count": null,
   "metadata": {},
   "outputs": [],
   "source": [
    "# EBOLA\n",
    "# ------\n",
    "\n",
    "# ebola dataset\n",
    "ebola_14 = pd.read_csv(\"data/ebola-outbreak-20142016-complete-dataset/ebola_2014_2016_clean.csv\", \n",
    "                       parse_dates=['Date'])\n",
    "\n",
    "# selecting important columns only\n",
    "ebola_14 = ebola_14[['Date', 'Country', 'No. of confirmed, probable and suspected cases',\n",
    "                     'No. of confirmed, probable and suspected deaths']]\n",
    "\n",
    "# renaming columns\n",
    "ebola_14.columns = ['Date', 'Country', 'Cases', 'Deaths']\n",
    "ebola_14.head()\n",
    "\n",
    "# group by date and country\n",
    "ebola_14 = ebola_14.groupby(['Date', 'Country'])['Cases', 'Deaths']\n",
    "ebola_14 = ebola_14.sum().reset_index()\n",
    "\n",
    "# filling missing values\n",
    "ebola_14['Cases'] = ebola_14['Cases'].fillna(0)\n",
    "ebola_14['Deaths'] = ebola_14['Deaths'].fillna(0)\n",
    "\n",
    "# converting datatypes\n",
    "ebola_14['Cases'] = ebola_14['Cases'].astype('int')\n",
    "ebola_14['Deaths'] = ebola_14['Deaths'].astype('int')\n",
    "\n",
    "# latest\n",
    "e_lat = ebola_14[ebola_14['Date'] == max(ebola_14['Date'])].reset_index()\n",
    "\n",
    "# latest grouped by country\n",
    "e_lat_grp = e_lat.groupby('Country')['Cases', 'Deaths'].sum().reset_index()\n",
    "\n",
    "# nth day\n",
    "ebola_14['nth_day'] = (ebola_14['Date'] - min(ebola_14['Date'])).dt.days\n",
    "\n",
    "# day by day\n",
    "e_dbd = ebola_14.groupby('Date')['Cases', 'Deaths'].sum().reset_index()\n",
    "\n",
    "# nth day\n",
    "e_dbd['nth_day'] = ebola_14.groupby('Date')['nth_day'].max().values\n",
    "\n",
    "# no. of countries\n",
    "temp = ebola_14[ebola_14['Cases']>0]\n",
    "e_dbd['n_countries'] = temp.groupby('Date')['Country'].apply(len).values\n",
    "\n",
    "ebola_14.head()"
   ]
  },
  {
   "cell_type": "code",
   "execution_count": null,
   "metadata": {},
   "outputs": [],
   "source": [
    "# SARS\n",
    "# ----\n",
    "\n",
    "# sars dataset\n",
    "sars_03 = pd.read_csv(\"data/sars-outbreak-2003-complete-dataset/sars_2003_complete_dataset_clean.csv\", \n",
    "                       parse_dates=['Date'])\n",
    "\n",
    "# selecting important columns only\n",
    "sars_03 = sars_03[['Date', 'Country', 'Cumulative number of case(s)', \n",
    "                   'Number of deaths', 'Number recovered']]\n",
    "\n",
    "# renaming columns\n",
    "sars_03.columns = ['Date', 'Country', 'Cases', 'Deaths', 'Recovered']\n",
    "\n",
    "# group by date and country\n",
    "sars_03 = sars_03.groupby(['Date', 'Country'])['Cases', 'Deaths', 'Recovered']\n",
    "sars_03 = sars_03.sum().reset_index()\n",
    "\n",
    "# latest\n",
    "s_lat = sars_03[sars_03['Date'] == max(sars_03['Date'])].reset_index()\n",
    "\n",
    "# latest grouped by country\n",
    "s_lat_grp = s_lat.groupby('Country')['Cases', 'Deaths', 'Recovered'].sum().reset_index()\n",
    "\n",
    "# nth day\n",
    "sars_03['nth_day'] = (sars_03['Date'] - min(sars_03['Date'])).dt.days\n",
    "\n",
    "# day by day\n",
    "s_dbd = sars_03.groupby('Date')['Cases', 'Deaths', 'Recovered'].sum().reset_index()\n",
    "\n",
    "# nth day\n",
    "s_dbd['nth_day'] = sars_03.groupby('Date')['nth_day'].max().values\n",
    "\n",
    "# no. of countries\n",
    "temp = sars_03[sars_03['Cases']>0]\n",
    "s_dbd['n_countries'] = temp.groupby('Date')['Country'].apply(len).values\n",
    "\n",
    "s_dbd.head()"
   ]
  },
  {
   "cell_type": "code",
   "execution_count": null,
   "metadata": {},
   "outputs": [],
   "source": [
    "e_dbd['new_cases'] = e_dbd['Cases'].diff()\n",
    "c_dbd['new_cases'] = c_dbd['Cases'].diff()\n",
    "s_dbd['new_cases'] = s_dbd['Cases'].diff()\n",
    "\n",
    "e_dbd['new_deaths'] = e_dbd['Deaths'].diff()\n",
    "c_dbd['new_deaths'] = c_dbd['Deaths'].diff()\n",
    "s_dbd['new_deaths'] = s_dbd['Deaths'].diff()\n",
    "\n",
    "e_dbd['epidemic'] = 'EBOLA'\n",
    "c_dbd['epidemic'] = 'COVID-19'\n",
    "s_dbd['epidemic'] = 'SARS'"
   ]
  },
  {
   "cell_type": "markdown",
   "metadata": {},
   "source": [
    "## Initial COVID-19 Analysis <a class=\"anchor\" id=\"initial covid_19_plots\"></a>"
   ]
  },
  {
   "cell_type": "code",
   "execution_count": null,
   "metadata": {},
   "outputs": [],
   "source": [
    "# dataframe info\n",
    "covid_19.info()"
   ]
  },
  {
   "cell_type": "code",
   "execution_count": null,
   "metadata": {},
   "outputs": [],
   "source": [
    "# still infected = confirmed - deaths - recovered\n",
    "covid_19['Still Infected'] = covid_19['Cases'] - covid_19['Deaths'] -covid_19['Recovered']\n",
    "\n",
    "# replacing Mainland china with just China\n",
    "covid_19['Country'] = covid_19['Country'].replace('Mainland China', 'China')\n",
    "\n",
    "# filling missing values with NA\n",
    "#covid_19[['Province/State']] = covid_19[['Province/State']].fillna('NA')\n",
    "#covid_19[['Confirmed', 'Deaths', 'Recovered', 'Still Infected']] = covid_19[['Confirmed', 'Deaths', 'Recovered', 'Still Infected']].fillna(0)"
   ]
  },
  {
   "cell_type": "code",
   "execution_count": null,
   "metadata": {},
   "outputs": [],
   "source": [
    "temp = covid_19.groupby('Date')['Cases', 'Deaths', 'Recovered', 'Still Infected'].sum()\n",
    "temp = temp.reset_index()\n",
    "temp = temp.sort_values('Date', ascending=False)\n",
    "temp.head(1).reset_index(drop=True).style.background_gradient(cmap='Pastel1')"
   ]
  },
  {
   "cell_type": "code",
   "execution_count": null,
   "metadata": {},
   "outputs": [],
   "source": [
    "tm = temp.head(1).melt(id_vars=\"Date\", value_vars=['Still Infected', 'Deaths', 'Recovered'])\n",
    "fig = px.treemap(tm, path=[\"variable\"], values=\"value\", height=200, \n",
    "                 color_discrete_sequence = [r, i, d])\n",
    "fig.show()"
   ]
  },
  {
   "cell_type": "code",
   "execution_count": null,
   "metadata": {},
   "outputs": [],
   "source": [
    "# complete dataset \n",
    "# complete = full_table.copy()\n",
    "\n",
    "# cases in the Diamond Princess cruise ship\n",
    "ship = covid_19[covid_19['Country']=='Diamond Princess cruise ship']\n",
    "\n",
    "# full table\n",
    "china = covid_19[covid_19['Country']=='China']\n",
    "row = covid_19[covid_19['Country']!='China']\n",
    "\n",
    "# latest\n",
    "covid_19_latest = covid_19[covid_19['Date'] == max(covid_19['Date'])].reset_index()\n",
    "china_latest = covid_19_latest[covid_19_latest['Country']=='China']\n",
    "row_latest = covid_19_latest[covid_19_latest['Country']!='China']\n",
    "\n",
    "# latest condensed\n",
    "covid_19_latest_grouped = covid_19_latest.groupby('Country')['Cases', 'Deaths', 'Recovered', 'Still Infected'].sum().reset_index()\n",
    "china_latest_grouped = china_latest.groupby('Country')['Cases', 'Deaths', 'Recovered', 'Still Infected'].sum().reset_index()\n",
    "row_latest_grouped = row_latest.groupby('Country')['Cases', 'Deaths', 'Recovered', 'Still Infected'].sum().reset_index()"
   ]
  },
  {
   "cell_type": "markdown",
   "metadata": {},
   "source": [
    "### In each country"
   ]
  },
  {
   "cell_type": "code",
   "execution_count": null,
   "metadata": {},
   "outputs": [],
   "source": [
    "temp_f = covid_19_latest_grouped[['Country', 'Cases', 'Deaths', 'Recovered']]\n",
    "temp_f = temp_f.sort_values(by='Cases', ascending=False)\n",
    "temp_f = temp_f.reset_index(drop=True)\n",
    "temp_f.style.background_gradient(cmap='Pastel1_r')"
   ]
  },
  {
   "cell_type": "markdown",
   "metadata": {},
   "source": [
    "### Countries with deaths reported"
   ]
  },
  {
   "cell_type": "code",
   "execution_count": null,
   "metadata": {},
   "outputs": [],
   "source": [
    "temp_flg = covid_19_latest_grouped[['Country', 'Deaths']]\n",
    "temp_flg = temp_flg.sort_values(by='Deaths', ascending=False)\n",
    "temp_flg = temp_flg.reset_index(drop=True)\n",
    "temp_flg = temp_flg[temp_flg['Deaths']>0]\n",
    "temp_flg.style.background_gradient(cmap='Reds')"
   ]
  },
  {
   "cell_type": "markdown",
   "metadata": {},
   "source": [
    "### Countries with all the cases recovered"
   ]
  },
  {
   "cell_type": "code",
   "execution_count": null,
   "metadata": {},
   "outputs": [],
   "source": [
    "temp = row_latest_grouped[row_latest_grouped['Cases']==\n",
    "                          row_latest_grouped['Recovered']]\n",
    "temp = temp[['Country', 'Cases', 'Recovered']]\n",
    "temp = temp.sort_values('Cases', ascending=False)\n",
    "temp = temp.reset_index(drop=True)\n",
    "temp.style.background_gradient(cmap='Greens')"
   ]
  },
  {
   "cell_type": "markdown",
   "metadata": {},
   "source": [
    "### Countries where all cases died"
   ]
  },
  {
   "cell_type": "code",
   "execution_count": null,
   "metadata": {},
   "outputs": [],
   "source": [
    "temp = row_latest_grouped[row_latest_grouped['Cases']==\n",
    "                          row_latest_grouped['Deaths']]\n",
    "temp = temp[['Country', 'Cases', 'Deaths']]\n",
    "temp = temp.sort_values('Cases', ascending=False)\n",
    "temp = temp.reset_index(drop=True)\n",
    "temp.style.background_gradient(cmap='Reds')"
   ]
  },
  {
   "cell_type": "markdown",
   "metadata": {},
   "source": [
    "### Spread over time"
   ]
  },
  {
   "cell_type": "code",
   "execution_count": null,
   "metadata": {},
   "outputs": [],
   "source": [
    "formated_gdf = covid_19.groupby(['Date', 'Country'])['Cases', 'Deaths', 'Recovered'].max()\n",
    "formated_gdf = formated_gdf.reset_index()\n",
    "formated_gdf = formated_gdf[formated_gdf['Country']!='China']\n",
    "formated_gdf['Date'] = pd.to_datetime(formated_gdf['Date'])\n",
    "formated_gdf['Date'] = formated_gdf['Date'].dt.strftime('%m/%d/%Y')\n",
    "formated_gdf['size'] = formated_gdf['Cases'].pow(0.5)\n",
    "\n",
    "fig = px.scatter_geo(formated_gdf[formated_gdf['Country']!='China'], \n",
    "                     locations=\"Country\", locationmode='country names', \n",
    "                     color=\"Cases\", size='size', hover_name=\"Country\", \n",
    "                     range_color= [0, max(formated_gdf['Cases'])+2], \n",
    "                     projection=\"natural earth\", animation_frame=\"Date\", \n",
    "                     title='Spread outside China over time')\n",
    "fig.update(layout_coloraxis_showscale=False)\n",
    "fig.show()"
   ]
  },
  {
   "cell_type": "markdown",
   "metadata": {},
   "source": [
    "## Number of cases in each country"
   ]
  },
  {
   "cell_type": "code",
   "execution_count": null,
   "metadata": {},
   "outputs": [],
   "source": [
    "fig = px.bar(covid_19_latest_grouped[['Country', 'Cases']].sort_values('Cases', ascending=False), \n",
    "             x=\"Cases\", y=\"Country\", color='Country', orientation='h',\n",
    "             log_x=True, color_discrete_sequence = px.colors.qualitative.Bold, title='Confirmed Cases', width=900, height=1200)\n",
    "fig.show()\n",
    "\n",
    "temp = covid_19_latest_grouped[['Country', 'Deaths']].sort_values('Deaths', ascending=False)\n",
    "fig = px.bar(temp[temp['Deaths']>0], \n",
    "             x=\"Deaths\", y=\"Country\", color='Country', title='Deaths', orientation='h',\n",
    "             log_x=True, color_discrete_sequence = px.colors.qualitative.Bold, width=900)\n",
    "fig.show()"
   ]
  },
  {
   "cell_type": "markdown",
   "metadata": {},
   "source": [
    "## Number of cases each day"
   ]
  },
  {
   "cell_type": "code",
   "execution_count": null,
   "metadata": {},
   "outputs": [],
   "source": [
    "temp = covid_19.groupby(['Country', 'Date'])['Cases', 'Deaths', 'Recovered'].sum()\n",
    "temp = temp.reset_index()\n",
    "# temp.head()\n",
    "\n",
    "fig = px.bar(temp, x=\"Date\", y=\"Cases\", color='Country', orientation='v', height=600,\n",
    "             title='Confirmed', color_discrete_sequence = px.colors.cyclical.mygbm)\n",
    "fig.show()\n",
    "\n",
    "fig = px.bar(temp, x=\"Date\", y=\"Deaths\", color='Country', orientation='v', height=600,\n",
    "             title='Deaths', color_discrete_sequence = px.colors.cyclical.mygbm)\n",
    "fig.show()"
   ]
  },
  {
   "cell_type": "markdown",
   "metadata": {},
   "source": [
    "# Countries affected by COVID-19, Ebola, SARS - Cases <a class=\"anchor\" id=\"covid_19_ebola_sars_countries_cases\"></a>"
   ]
  },
  {
   "cell_type": "code",
   "execution_count": null,
   "metadata": {},
   "outputs": [],
   "source": [
    "fig = px.choropleth(c_lat_grp, locations=\"Country\", locationmode='country names',\n",
    "                    color=\"Cases\", hover_name=\"Country\", \n",
    "                    color_continuous_scale=\"Sunset\", title='COVID-19')\n",
    "fig.update(layout_coloraxis_showscale=False)\n",
    "fig.show()\n",
    "\n",
    "#-----------------------------------------------------------------------------------------\n",
    "\n",
    "fig = px.choropleth(e_lat_grp, locations=\"Country\", locationmode='country names',\n",
    "                    color=\"Cases\", hover_name=\"Country\", \n",
    "                    color_continuous_scale=\"Sunset\", title='EBOLA 2014')\n",
    "fig.update(layout_coloraxis_showscale=False)\n",
    "fig.show()\n",
    "\n",
    "#-----------------------------------------------------------------------------------------\n",
    "\n",
    "fig = px.choropleth(s_lat_grp, locations=\"Country\", locationmode='country names',\n",
    "                    color=\"Cases\", hover_name=\"Country\", \n",
    "                    color_continuous_scale=\"Sunset\", title='SARS 2003')\n",
    "fig.update(layout_coloraxis_showscale=False)\n",
    "fig.show()"
   ]
  },
  {
   "cell_type": "markdown",
   "metadata": {},
   "source": [
    "# Countries affected by COVID-19, Ebola, SARS - Deaths <a class=\"anchor\" id=\"covid_19_ebola_sars_countries_deaths\"></a>"
   ]
  },
  {
   "cell_type": "code",
   "execution_count": null,
   "metadata": {},
   "outputs": [],
   "source": [
    "fig = px.choropleth(c_lat_grp[c_lat_grp['Deaths']>0], locations=\"Country\", locationmode='country names',\n",
    "                    color=\"Deaths\", hover_name=\"Country\", \n",
    "                    color_continuous_scale=\"Peach\", title='COVID-19')\n",
    "fig.update(layout_coloraxis_showscale=False)\n",
    "fig.show()\n",
    "\n",
    "#-----------------------------------------------------------------------------------------\n",
    "\n",
    "fig = px.choropleth(e_lat_grp[e_lat_grp['Deaths']>0], locations=\"Country\", locationmode='country names',\n",
    "                    color=\"Deaths\", hover_name=\"Country\", \n",
    "                    color_continuous_scale=\"Peach\", title='EBOLA 2014')\n",
    "fig.update(layout_coloraxis_showscale=False)\n",
    "fig.show()\n",
    "\n",
    "#-----------------------------------------------------------------------------------------\n",
    "\n",
    "fig = px.choropleth(s_lat_grp[s_lat_grp['Deaths']>0], locations=\"Country\", locationmode='country names',\n",
    "                    color=\"Deaths\", hover_name=\"Country\", \n",
    "                    color_continuous_scale=\"Peach\", title='SARS 2003')\n",
    "fig.update(layout_coloraxis_showscale=False)\n",
    "fig.show()\n"
   ]
  },
  {
   "cell_type": "markdown",
   "metadata": {},
   "source": [
    "# Comparison: COVID-19, SARS, Ebola, MERS, H1N1 <a class=\"anchor\" id=\"comparison_covid_19_sars_ebola_mers_h1n1\"></a>"
   ]
  },
  {
   "cell_type": "code",
   "execution_count": null,
   "metadata": {},
   "outputs": [],
   "source": [
    "# sum of cases\n",
    "# -----------\n",
    "\n",
    "c_cases = sum(c_lat_grp['Cases'])\n",
    "c_deaths = sum(c_lat_grp['Deaths'])\n",
    "c_no_countries = len(c_lat_grp['Country'].value_counts())\n",
    "\n",
    "s_cases = sum(s_lat_grp['Cases'])\n",
    "s_deaths = sum(s_lat_grp['Deaths'])\n",
    "s_no_countries = len(s_lat_grp['Country'].value_counts())\n",
    "\n",
    "e_cases = sum(e_lat_grp['Cases'])\n",
    "e_deaths = sum(e_lat_grp['Deaths'])\n",
    "e_no_countries = len(e_lat_grp['Country'].value_counts())"
   ]
  },
  {
   "cell_type": "code",
   "execution_count": null,
   "metadata": {},
   "outputs": [],
   "source": [
    "epidemics = pd.DataFrame({\n",
    "    'epidemic' : ['COVID-19', 'SARS', 'EBOLA', 'MERS', 'H1N1'],\n",
    "    'start_year' : [2019, 2003, 2014, 2012, 2009],\n",
    "    'end_year' : [2020, 2004, 2016, 2017, 2010],\n",
    "    'confirmed' : [c_cases, s_cases, e_cases, 2494, 6724149],\n",
    "    'deaths' : [c_deaths, s_deaths, e_deaths, 858, 19654],\n",
    "    'no_of_countries' : [c_no_countries, s_no_countries, e_no_countries, 27, 178]\n",
    "})\n",
    "\n",
    "epidemics['mortality'] = round((epidemics['deaths']/epidemics['confirmed'])*100, 2)\n",
    "epidemics = epidemics.sort_values('end_year').reset_index(drop=True)\n",
    "epidemics.head()"
   ]
  },
  {
   "cell_type": "code",
   "execution_count": null,
   "metadata": {},
   "outputs": [],
   "source": [
    "fig = px.bar(epidemics.sort_values('confirmed',ascending=False), \n",
    "             x=\"confirmed\", y=\"epidemic\", color='epidemic', \n",
    "             text='confirmed', orientation='h', title='No. of Cases', \n",
    "             range_x=[0,7500000],\n",
    "             color_discrete_sequence = [h, c, e, s, m])\n",
    "fig.update_traces(textposition='outside')\n",
    "fig.update_layout(uniformtext_minsize=8, uniformtext_mode='hide')\n",
    "fig.show()"
   ]
  },
  {
   "cell_type": "code",
   "execution_count": null,
   "metadata": {},
   "outputs": [],
   "source": [
    "fig = px.bar(epidemics.sort_values('deaths',ascending=False), \n",
    "             x=\"deaths\", y=\"epidemic\", color='epidemic', \n",
    "             text='deaths', orientation='h', title='No. of Deaths',\n",
    "             range_x=[0,25000],\n",
    "             color_discrete_sequence = [h, e, c, m, s])\n",
    "fig.update_traces(textposition='outside')\n",
    "fig.update_layout(uniformtext_minsize=8, uniformtext_mode='hide')\n",
    "fig.show()"
   ]
  },
  {
   "cell_type": "code",
   "execution_count": null,
   "metadata": {},
   "outputs": [],
   "source": [
    "fig = px.bar(epidemics.sort_values('mortality',ascending=False),\n",
    "             x=\"mortality\", y=\"epidemic\", color='epidemic', \n",
    "             text='mortality', orientation='h', title='Moratlity rate', \n",
    "             range_x=[0,100],\n",
    "             color_discrete_sequence = [e, m, s, c, h])\n",
    "fig.update_traces(textposition='outside')\n",
    "fig.update_layout(uniformtext_minsize=8, uniformtext_mode='hide')\n",
    "fig.show()"
   ]
  },
  {
   "cell_type": "code",
   "execution_count": null,
   "metadata": {},
   "outputs": [],
   "source": [
    "fig = px.bar(epidemics.sort_values('no_of_countries', ascending=False),\n",
    "             x=\"no_of_countries\", y=\"epidemic\", color='epidemic', \n",
    "             text='no_of_countries', orientation='h', title='No. of Countries', \n",
    "             range_x=[0,200],\n",
    "             color_discrete_sequence = [h, c, s, m, e])\n",
    "fig.update_traces(textposition='outside')\n",
    "fig.update_layout(uniformtext_minsize=8, uniformtext_mode='hide')\n",
    "fig.show()"
   ]
  },
  {
   "cell_type": "markdown",
   "metadata": {},
   "source": [
    "# Comparison: Common Flu, Car Crashes, etc. <a class=\"anchor\" id=\"comparison_everything_else\"></a>"
   ]
  },
  {
   "cell_type": "code",
   "execution_count": null,
   "metadata": {},
   "outputs": [],
   "source": []
  },
  {
   "cell_type": "code",
   "execution_count": null,
   "metadata": {},
   "outputs": [],
   "source": []
  },
  {
   "cell_type": "code",
   "execution_count": null,
   "metadata": {},
   "outputs": [],
   "source": []
  },
  {
   "cell_type": "code",
   "execution_count": null,
   "metadata": {},
   "outputs": [],
   "source": []
  },
  {
   "cell_type": "markdown",
   "metadata": {},
   "source": [
    "# Initial Analysis <a class=\"anchor\" id=\"initial_analysis\"></a>\n",
    "\n",
    "According to the CDC, virus analysis is not performed on the total number of cases per day, but rather the rate of confirmed cases.  This is because most things in nature follow a pattern described best by a sigmoid function.  Meaning that initially the number of cases will be few, but growing exponentially.  At some point the number of cases reaches an inflection point, whereby the number of cases per day begins to decrease.  In other words, the CDC tracks the *rate of change* of the number of cases, and when the rate of change is negative, they know (from experience and nature) that the end is on the horizon.  If we plot our data in simiar way we might be able to find the inflection point.  Similarly, with a known inflection point, we can make an educated guess about the total number of cases at the end of the epidemic."
   ]
  },
  {
   "cell_type": "code",
   "execution_count": null,
   "metadata": {},
   "outputs": [],
   "source": [
    "temp = pd.concat([s_dbd, e_dbd, c_dbd], axis=0, sort=True)\n",
    "                \n",
    "fig = px.line(temp, x=\"Date\", y=\"Cases\", color='epidemic', \n",
    "             title='No. of new cases',\n",
    "             color_discrete_sequence = sec)\n",
    "fig.update_layout(xaxis_rangeslider_visible=True)\n",
    "fig.show()\n",
    "\n",
    "fig = px.line(temp, x=\"Date\", y=\"Deaths\", color='epidemic', \n",
    "             title='No. of new deaths',\n",
    "             color_discrete_sequence = sec)\n",
    "fig.update_layout(xaxis_rangeslider_visible=True)\n",
    "fig.show()"
   ]
  },
  {
   "cell_type": "markdown",
   "metadata": {},
   "source": [
    "## In the first N days"
   ]
  },
  {
   "cell_type": "code",
   "execution_count": null,
   "metadata": {},
   "outputs": [],
   "source": [
    "fig = px.line(temp, x=\"nth_day\", y=\"Cases\", color='epidemic', \n",
    "             title='Cases', color_discrete_sequence = sec)\n",
    "fig.update_layout(xaxis_rangeslider_visible=True)\n",
    "fig.show()\n",
    "\n",
    "fig = px.line(temp, x=\"nth_day\", y=\"Deaths\", color='epidemic', \n",
    "             title='Deaths', color_discrete_sequence = sec)\n",
    "fig.update_layout(xaxis_rangeslider_visible=True)\n",
    "fig.show()\n",
    "\n",
    "fig = px.line(temp, x=\"nth_day\", y=\"n_countries\", color='epidemic', \n",
    "             title='No. of Countries', color_discrete_sequence = sec)\n",
    "fig.update_layout(xaxis_rangeslider_visible=True)\n",
    "fig.show()"
   ]
  },
  {
   "cell_type": "code",
   "execution_count": null,
   "metadata": {},
   "outputs": [],
   "source": [
    "fig = px.scatter(epidemics, x='start_year', y = [1 for i in range(len(epidemics))], \n",
    "                 size=epidemics['confirmed']**0.3, color='epidemic', title='Confirmed Cases',\n",
    "                 color_discrete_sequence = shemc, hover_name='epidemic', height=400,\n",
    "                 text=epidemics['epidemic']+'<br> Cases : '+epidemics['confirmed'].apply(str))\n",
    "fig.update_traces(textposition='bottom center')\n",
    "fig.update_yaxes(showticklabels=False)\n",
    "fig.update_layout(showlegend=False)\n",
    "fig.show()\n",
    "\n",
    "fig = px.scatter(epidemics, x='start_year', y = [1 for i in range(len(epidemics))], \n",
    "                 size=epidemics['deaths']**0.5, color='epidemic', title='Deaths',\n",
    "                 color_discrete_sequence = shemc, hover_name='epidemic', height=400,\n",
    "                 text=epidemics['epidemic']+'<br> Deaths : '+epidemics['deaths'].apply(str))\n",
    "fig.update_traces(textposition='bottom center')\n",
    "fig.update_yaxes(showticklabels=False)\n",
    "fig.update_layout(showlegend=False)\n",
    "fig.show()"
   ]
  },
  {
   "cell_type": "code",
   "execution_count": null,
   "metadata": {},
   "outputs": [],
   "source": [
    "temp = covid_19.groupby('Date')['Cases'].sum().reset_index()\n",
    "\n",
    "covid = temp['Cases']\n",
    "sars = [8096 for i in range(len(temp))]\n",
    "ebola = [28646 for i in range(len(temp))]\n",
    "mers = [2494 for i in range(len(temp))]\n",
    "h1n1 = [6724149 for i in range(len(temp))]\n",
    "\n",
    "plt.style.use('seaborn-whitegrid')\n",
    "plt.figure(figsize=(20, 8))\n",
    "ax = plt.plot(temp['Date'], covid, label='COVID-19 (2019-2020)', c='#555555', alpha=0.8)\n",
    "ax = plt.plot(temp['Date'], sars, label='SARS (2003-2004)', c='#E71D36', ls='--', alpha=0.8)\n",
    "ax = plt.plot(temp['Date'], ebola, label='EBOLA (2014-2016)', c='#FF9F1C', ls='--', alpha=0.8)\n",
    "ax = plt.plot(temp['Date'], mers, label='MERS', c='#2EC4B6', ls='--', alpha=0.8)\n",
    "plt.title('Number of Cases')\n",
    "plt.legend()\n",
    "plt.show()"
   ]
  },
  {
   "cell_type": "code",
   "execution_count": null,
   "metadata": {},
   "outputs": [],
   "source": [
    "temp = covid_19.groupby('Date')['Deaths'].sum().reset_index()\n",
    "\n",
    "covid = temp['Deaths']\n",
    "sars = [774 for i in range(len(temp))]\n",
    "ebola = [11323 for i in range(len(temp))]\n",
    "mers = [858 for i in range(len(temp))]\n",
    "h1n1 = [19654 for i in range(len(temp))]\n",
    "\n",
    "plt.figure(figsize=(20, 8))\n",
    "ax = plt.plot(temp['Date'], covid, label='COVID-19 (2019-2020)', c='#555555', alpha=0.8)\n",
    "ax = plt.plot(temp['Date'], sars, label='SARS (2003-2004)', c='#E71D36', ls='--', alpha=0.8)\n",
    "ax = plt.plot(temp['Date'], ebola, label='EBOLA (2014-2016)', c='#FF9F1C', ls='--', alpha=0.8)\n",
    "ax = plt.plot(temp['Date'], mers, label='MERS', c='#2EC4B6', ls='--', alpha=0.8)\n",
    "ax = plt.plot(temp['Date'], h1n1, label='H1N1', c='#2345BA', ls='--', alpha=0.8)\n",
    "plt.title('Number of Deaths')\n",
    "plt.legend()\n",
    "plt.show()"
   ]
  },
  {
   "cell_type": "markdown",
   "metadata": {},
   "source": [
    "# Conclusion <a class=\"anchor\" id=\"conclusion\"></a>\n",
    "\n",
    "At this point (March 9, 2020), numbers seems to show that most of the coronavirus deaths have remained confined to China. This means that measures to contain the virus have been efficient or (and) that the virus does not spread as fast as initially feared. This is not to minimize the current efforts though, and we should also be very grateful to doctors and leaders for measures that have prevented a global pandemic. At this point, they seem to be winning a difficult battle.\n",
    "\n",
    "On an international level, there has clearly been some overreaction too. Many countries have stopped most of their flights even to Chinese regions that are mostly free from the virus as Beijing or Shanghai and have even rappatriated their citizens. It is hard to ignore the political situation in these decisions that seem to stem from a lack of trust towards China, which has probably grown in recent years. On a positive side, scientists have collaborated globally, with Chinese groups sharing the genome of the virus from the start in order to boost research towards a vaccine."
   ]
  }
 ],
 "metadata": {
  "kernelspec": {
   "display_name": "Python 3",
   "language": "python",
   "name": "python3"
  },
  "language_info": {
   "codemirror_mode": {
    "name": "ipython",
    "version": 3
   },
   "file_extension": ".py",
   "mimetype": "text/x-python",
   "name": "python",
   "nbconvert_exporter": "python",
   "pygments_lexer": "ipython3",
   "version": "3.7.3"
  }
 },
 "nbformat": 4,
 "nbformat_minor": 4
}
